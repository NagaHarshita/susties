{
  "nbformat": 4,
  "nbformat_minor": 0,
  "metadata": {
    "colab": {
      "provenance": []
    },
    "kernelspec": {
      "name": "python3",
      "display_name": "Python 3"
    },
    "language_info": {
      "name": "python"
    }
  },
  "cells": [
    {
      "cell_type": "code",
      "execution_count": 1,
      "metadata": {
        "id": "1O3KpBpEMyrU"
      },
      "outputs": [],
      "source": [
        "from PIL import Image\n",
        "from flask import Flask, request, jsonify\n",
        "import numpy as np\n",
        "from keras.models import load_model\n",
        "import keras.utils as image\n",
        "import tensorflow as tf\n",
        "from tensorflow.keras.preprocessing.image import load_img, img_to_array\n",
        "from skimage import io\n",
        "import cv2\n",
        "from skimage import io, color\n",
        "from skimage.transform import resize"
      ]
    },
    {
      "cell_type": "code",
      "source": [
        "from google.colab import drive \n",
        "drive.mount('/content/drive')"
      ],
      "metadata": {
        "colab": {
          "base_uri": "https://localhost:8080/"
        },
        "id": "OBmNyVzgrvov",
        "outputId": "1b09b41e-e72d-447b-c1fe-6f86a07e2e3a"
      },
      "execution_count": 2,
      "outputs": [
        {
          "output_type": "stream",
          "name": "stdout",
          "text": [
            "Mounted at /content/drive\n"
          ]
        }
      ]
    },
    {
      "cell_type": "code",
      "source": [
        "cd drive/MyDrive/"
      ],
      "metadata": {
        "colab": {
          "base_uri": "https://localhost:8080/"
        },
        "id": "04O6c5Fxr-JT",
        "outputId": "0235e366-0b4d-45ed-ad2f-3d9a2018a13b"
      },
      "execution_count": 3,
      "outputs": [
        {
          "output_type": "stream",
          "name": "stdout",
          "text": [
            "/content/drive/MyDrive\n"
          ]
        }
      ]
    },
    {
      "cell_type": "code",
      "source": [
        "model = load_model('./final_model_weights.hdf5')\n",
        "def getprediction(img):\n",
        "    img = img_to_array(img)\n",
        "    img = img / 255\n",
        "    img = np.expand_dims(img,axis=0)\n",
        "    predict=model.predict(img) \n",
        "    classes=np.argmax(predict,axis=1)\n",
        "    if classes == 1:\n",
        "        print(f\"The image belongs to Recycle waste category, probability: {predict[0][1]}.\")\n",
        "    else:\n",
        "        print(f\"The image belongs to Organic waste category, probability: {predict[0][0]}.\")"
      ],
      "metadata": {
        "id": "nmhlvePaN-dy"
      },
      "execution_count": 4,
      "outputs": []
    },
    {
      "cell_type": "code",
      "source": [
        "def read_img_from_path(img_path):\n",
        "  rgb = io.imread(img_path)\n",
        "  resized_image = resize(rgb, (180, 180))\n",
        "  rescaled_image = 255 * resized_image\n",
        "  final_image = rescaled_image.astype(np.uint8)\n",
        "  img = Image.fromarray(final_image, 'RGB')\n",
        "  return img"
      ],
      "metadata": {
        "id": "TfRCKs8i50s-"
      },
      "execution_count": 6,
      "outputs": []
    },
    {
      "cell_type": "code",
      "source": [
        "# test_case2 = load_img('https://images.app.goo.gl/s1NEp8sGpB1623xQ7', target_size=(180,180))\n",
        "img = read_img_from_path('https://i.stack.imgur.com/QupKb.png')\n",
        "getprediction(img)"
      ],
      "metadata": {
        "colab": {
          "base_uri": "https://localhost:8080/"
        },
        "id": "4gYFLm3Zol2Y",
        "outputId": "982e5595-c2e4-43cc-d36e-d7984334779c"
      },
      "execution_count": 7,
      "outputs": [
        {
          "output_type": "stream",
          "name": "stdout",
          "text": [
            "1/1 [==============================] - 1s 1s/step\n",
            "The image belongs to Recycle waste category, probability: 0.6888478994369507.\n"
          ]
        }
      ]
    }
  ]
}